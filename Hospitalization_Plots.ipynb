{
 "cells": [
  {
   "cell_type": "code",
   "execution_count": null,
   "metadata": {},
   "outputs": [],
   "source": [
    "import glob\n",
    "import re\n",
    "import tarfile\n",
    "\n",
    "import matplotlib.pyplot as plt\n",
    "import numpy as np\n",
    "import pandas as pd\n",
    "import seaborn as sns"
   ]
  },
  {
   "cell_type": "markdown",
   "metadata": {},
   "source": [
    "### How to use this script\n",
    "\n",
    "After the completion of a series of simulations, Restart and Run All on this script after changing the following:\n",
    "* Make sure `dirnames` and `scenario_names` align with with names in your `config.yml` file.\n",
    "* If you'd like to plot at a different death rate, change the name (defaults are 'low', 'med', and 'high'), but depends on your `config.yml`\n",
    "* Point `tfile = tarfile.open(...)` to the file your simulation produced\n",
    "\n",
    "At the bottom of this file, you'll find a couple plots, one of hospital bed and ICU bed occupancy by day and some charts of various important statistics in detail by period. You can copy these wherever you'd like them."
   ]
  },
  {
   "cell_type": "code",
   "execution_count": null,
   "metadata": {},
   "outputs": [],
   "source": [
    "dirnames = ['Mid', 'Mild', 'Severe', 'NoCoronavirus', 'MMTestIsolate', 'MMInfluenza']\n",
    "scenario_names = ['1918-Style', 'Reopen', 'Test and Isolate', 'Did nothing', '(MM) Test and Isolate', '(MM) 1918-Style']\n",
    "death_rate_name = 'med'"
   ]
  },
  {
   "cell_type": "code",
   "execution_count": null,
   "metadata": {},
   "outputs": [],
   "source": [
    "tfile = tarfile.open('output/output-2020-04-07T23-49-49.tar.gz')"
   ]
  },
  {
   "cell_type": "code",
   "execution_count": null,
   "metadata": {},
   "outputs": [],
   "source": [
    "dfs = []\n",
    "for member in tfile.getmembers():\n",
    "    match = re.match(f'hospitalization/model_output/minimal_(.*)/{death_rate_name}.*csv', member.name)\n",
    "    if match:\n",
    "        dirname = match.groups()[0]\n",
    "        scenario_name = scenario_names[dirnames.index(dirname)]\n",
    "        f = tfile.extractfile(member)\n",
    "        df = pd.read_csv(f)\n",
    "        df = df[df['geoid'] // 1000 == 44]  # Pull out RI from the simulation\n",
    "        df = df[df['comp'] == 'diffI']\n",
    "        df['scenario_name'] = scenario_name\n",
    "        dfs.append(df)"
   ]
  },
  {
   "cell_type": "code",
   "execution_count": null,
   "metadata": {},
   "outputs": [],
   "source": [
    "df = pd.concat(dfs)"
   ]
  },
  {
   "cell_type": "code",
   "execution_count": null,
   "metadata": {},
   "outputs": [],
   "source": [
    "# There are 5 counties in RI\n",
    "assert (df.groupby(['scenario_name', 'time', 'sim_num']).size() == 5).all()"
   ]
  },
  {
   "cell_type": "code",
   "execution_count": null,
   "metadata": {},
   "outputs": [],
   "source": [
    "# Add all counties in RI\n",
    "grouped = df.groupby(['sim_num', 'time', 'scenario_name'])[['hosp_curr', 'icu_curr', 'incidD', 'incidH', 'incidI']].sum().reset_index()\n",
    "grouped['time'] = pd.to_datetime(grouped.time)"
   ]
  },
  {
   "cell_type": "code",
   "execution_count": null,
   "metadata": {},
   "outputs": [],
   "source": [
    "fig, ax = plt.subplots(figsize=(10, 8))\n",
    "\n",
    "grouped['Scenario'] = grouped.scenario_name\n",
    "blah = sns.lineplot(\n",
    "    data = grouped,\n",
    "    x = 'time',\n",
    "    y = 'hosp_curr',\n",
    "    hue='Scenario',\n",
    "    ax = ax\n",
    ")\n",
    "\n",
    "plt.xticks(rotation=45)\n",
    "plt.ylabel('Number Hospital Beds Occupied per Day')\n",
    "\n",
    "box = ax.get_position()\n",
    "ax.set_position([box.x0, box.y0, box.width * 0.8, box.height])\n",
    "\n",
    "# Put a legend to the right of the current axis\n",
    "ax.legend(loc='center left', bbox_to_anchor=(1, 0.5))\n",
    "plt.grid(axis='both')\n",
    "plt.title('Median bolded; 95% CI in bands')"
   ]
  },
  {
   "cell_type": "code",
   "execution_count": null,
   "metadata": {},
   "outputs": [],
   "source": [
    "fig, ax = plt.subplots(figsize=(10, 8))\n",
    "\n",
    "grouped['Scenario'] = grouped.scenario_name\n",
    "blah = sns.lineplot(\n",
    "    data = grouped,\n",
    "    x = 'time',\n",
    "    y = 'icu_curr',\n",
    "    hue='Scenario',\n",
    "    ax = ax\n",
    ")\n",
    "\n",
    "plt.xticks(rotation=45)\n",
    "plt.ylabel('Number ICU Beds Occupied per Day')\n",
    "\n",
    "box = ax.get_position()\n",
    "ax.set_position([box.x0, box.y0, box.width * 0.8, box.height])\n",
    "\n",
    "# Put a legend to the right of the current axis\n",
    "ax.legend(loc='center left', bbox_to_anchor=(1, 0.5))\n",
    "plt.grid(axis='both')\n",
    "plt.title('Median bolded; 95% CI in bands')"
   ]
  },
  {
   "cell_type": "code",
   "execution_count": null,
   "metadata": {},
   "outputs": [],
   "source": [
    "def low_quantile(x): return np.quantile(x, 0.025)\n",
    "def high_quantile(x): return np.quantile(x, 0.975)\n",
    "def create_pivot_display(focus, col):\n",
    "    pivoted = focus.groupby(['scenario_name', 'months', 'sim_num'])[col].sum().reset_index()\\\n",
    "        .pivot_table(index='scenario_name', columns='months', values=col, aggfunc=[\n",
    "        'median', low_quantile, high_quantile]).astype(int)\n",
    "    return (pivoted['median'].applymap(lambda x: '{:,}'.format(x)) + \n",
    "            '  (' + pivoted['low_quantile'].applymap(lambda x: '{:,}'.format(x)) +\n",
    "            ' – ' + pivoted['high_quantile'].applymap(lambda x: '{:,}'.format(x)) +\n",
    "            ')')"
   ]
  },
  {
   "cell_type": "code",
   "execution_count": null,
   "metadata": {},
   "outputs": [],
   "source": [
    "focus = grouped[grouped['time'] >= '03-01-2020'].copy()\n",
    "focus['period'] = focus['time'].dt.month // 2\n",
    "focus['months'] = focus.period.map({1: '03-04', 2: '05-06', 3: '07-08', 4: '09-10'})"
   ]
  },
  {
   "cell_type": "code",
   "execution_count": null,
   "metadata": {},
   "outputs": [],
   "source": [
    "print('Peak hospital occupancy in period (median + 95% CI)')\n",
    "create_pivot_display(focus, 'hosp_curr')"
   ]
  },
  {
   "cell_type": "code",
   "execution_count": null,
   "metadata": {},
   "outputs": [],
   "source": [
    "print('Deaths in period (median + 95% CI)')\n",
    "create_pivot_display(focus, 'incidD')"
   ]
  },
  {
   "cell_type": "code",
   "execution_count": null,
   "metadata": {},
   "outputs": [],
   "source": [
    "print('Hospital admissions in period (median + 95% CI)')\n",
    "create_pivot_display(focus, 'incidH')"
   ]
  },
  {
   "cell_type": "code",
   "execution_count": null,
   "metadata": {
    "scrolled": true
   },
   "outputs": [],
   "source": [
    "print('Infections in period (median + 95% CI)')\n",
    "create_pivot_display(focus, 'incidI')"
   ]
  },
  {
   "cell_type": "code",
   "execution_count": null,
   "metadata": {},
   "outputs": [],
   "source": [
    "### TODO(khw): Further visualizations pivoting on IFR"
   ]
  }
 ],
 "metadata": {
  "kernelspec": {
   "display_name": "Python 3",
   "language": "python",
   "name": "python3"
  },
  "language_info": {
   "codemirror_mode": {
    "name": "ipython",
    "version": 3
   },
   "file_extension": ".py",
   "mimetype": "text/x-python",
   "name": "python",
   "nbconvert_exporter": "python",
   "pygments_lexer": "ipython3",
   "version": "3.7.7"
  }
 },
 "nbformat": 4,
 "nbformat_minor": 4
}
